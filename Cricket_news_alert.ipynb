B
B
B
{
  "nbformat": 4,
  "nbformat_minor": 0,
  "metadata": {
    "colab": {
      "name": "Cricket news alert.ipynb",
      "provenance": []
    },
    "kernelspec": {
      "name": "python3",
      "display_name": "Python 3"
    },
    "language_info": {
      "name": "python"
    }
  },
  "cells": [
    {
      "cell_type": "code",
      "execution_count": 1,
      "metadata": {
        "id": "hbW_SUgXB9QR"
      },
      "outputs": [],
      "source": [
        "import logging\n",
        "import signal\n",
        "import requests\n",
        "import sys\n",
        "import time"
      ]
    },
    {
      "cell_type": "code",
      "source": [
        "!pip install aiogram"
      ],
      "metadata": {
        "colab": {
          "base_uri": "https://localhost:8080/"
        },
        "id": "IDb4ViCdCEg0",
        "outputId": "3ecaa43b-f478-4728-f9fa-df7b3856183f"
      },
      "execution_count": 2,
      "outputs": [
        {
          "output_type": "stream",
          "name": "stdout",
          "text": [
            "Looking in indexes: https://pypi.org/simple, https://us-python.pkg.dev/colab-wheels/public/simple/\n",
            "Collecting aiogram\n",
            "  Downloading aiogram-2.21-py3-none-any.whl (195 kB)\n",
            "\u001b[K     |████████████████████████████████| 195 kB 6.6 MB/s \n",
            "\u001b[?25hRequirement already satisfied: aiohttp<3.9.0,>=3.8.0 in /usr/local/lib/python3.7/dist-packages (from aiogram) (3.8.1)\n",
            "Requirement already satisfied: certifi>=2021.10.8 in /usr/local/lib/python3.7/dist-packages (from aiogram) (2022.6.15)\n",
            "Collecting Babel<2.10.0,>=2.9.1\n",
            "  Downloading Babel-2.9.1-py2.py3-none-any.whl (8.8 MB)\n",
            "\u001b[K     |████████████████████████████████| 8.8 MB 9.7 MB/s \n",
            "\u001b[?25hRequirement already satisfied: asynctest==0.13.0 in /usr/local/lib/python3.7/dist-packages (from aiohttp<3.9.0,>=3.8.0->aiogram) (0.13.0)\n",
            "Requirement already satisfied: yarl<2.0,>=1.0 in /usr/local/lib/python3.7/dist-packages (from aiohttp<3.9.0,>=3.8.0->aiogram) (1.8.1)\n",
            "Requirement already satisfied: aiosignal>=1.1.2 in /usr/local/lib/python3.7/dist-packages (from aiohttp<3.9.0,>=3.8.0->aiogram) (1.2.0)\n",
            "Requirement already satisfied: frozenlist>=1.1.1 in /usr/local/lib/python3.7/dist-packages (from aiohttp<3.9.0,>=3.8.0->aiogram) (1.3.0)\n",
            "Requirement already satisfied: multidict<7.0,>=4.5 in /usr/local/lib/python3.7/dist-packages (from aiohttp<3.9.0,>=3.8.0->aiogram) (6.0.2)\n",
            "Requirement already satisfied: charset-normalizer<3.0,>=2.0 in /usr/local/lib/python3.7/dist-packages (from aiohttp<3.9.0,>=3.8.0->aiogram) (2.1.0)\n",
            "Requirement already satisfied: attrs>=17.3.0 in /usr/local/lib/python3.7/dist-packages (from aiohttp<3.9.0,>=3.8.0->aiogram) (22.1.0)\n",
            "Requirement already satisfied: async-timeout<5.0,>=4.0.0a3 in /usr/local/lib/python3.7/dist-packages (from aiohttp<3.9.0,>=3.8.0->aiogram) (4.0.2)\n",
            "Requirement already satisfied: typing-extensions>=3.7.4 in /usr/local/lib/python3.7/dist-packages (from aiohttp<3.9.0,>=3.8.0->aiogram) (4.1.1)\n",
            "Requirement already satisfied: pytz>=2015.7 in /usr/local/lib/python3.7/dist-packages (from Babel<2.10.0,>=2.9.1->aiogram) (2022.1)\n",
            "Requirement already satisfied: idna>=2.0 in /usr/local/lib/python3.7/dist-packages (from yarl<2.0,>=1.0->aiohttp<3.9.0,>=3.8.0->aiogram) (2.10)\n",
            "Installing collected packages: Babel, aiogram\n",
            "  Attempting uninstall: Babel\n",
            "    Found existing installation: Babel 2.10.3\n",
            "    Uninstalling Babel-2.10.3:\n",
            "      Successfully uninstalled Babel-2.10.3\n",
            "Successfully installed Babel-2.9.1 aiogram-2.21\n"
          ]
        }
      ]
    },
    {
      "cell_type": "code",
      "source": [
        "from aiogram import Bot, Dispatcher, executor, types"
      ],
      "metadata": {
        "id": "S3ybhXopCEjI"
      },
      "execution_count": 3,
      "outputs": []
    },
    {
      "cell_type": "code",
      "source": [
        "API_TOKEN = hide"
      ],
      "metadata": {
        "id": "NnlrjW6UCElm"
      },
      "execution_count": 6,
      "outputs": []
    },
    {
      "cell_type": "code",
      "source": [
        "# Configure logging\n",
        "logging.basicConfig(level=logging.INFO)\n",
        "\n",
        "# Initialize bot and dispatcher\n",
        "bot = Bot(token=API_TOKEN)\n",
        "dp = Dispatcher(bot)"
      ],
      "metadata": {
        "id": "_Npz5oMFCEoJ"
      },
      "execution_count": 7,
      "outputs": []
    },
    {
      "cell_type": "code",
      "source": [
        "def signal_handler(signal, frame):\n",
        "    global interrupted\n",
        "    interrupted = True\n",
        "signal.signal(signal.SIGINT, signal_handler)"
      ],
      "metadata": {
        "colab": {
          "base_uri": "https://localhost:8080/"
        },
        "id": "_eSwY7lICVDn",
        "outputId": "43433d5b-bb36-48ca-af0e-d64eb7f77a95"
      },
      "execution_count": 8,
      "outputs": [
        {
          "output_type": "execute_result",
          "data": {
            "text/plain": [
              "<function _signal.default_int_handler>"
            ]
          },
          "metadata": {},
          "execution_count": 8
        }
      ]
    },
    {
      "cell_type": "code",
      "source": [
        "def wait_time(g_time):\n",
        "    interrupted=False\n",
        "    for remaining in range(g_time, 0, -1):\n",
        "        sys.stdout.write(\"\\r\")\n",
        "        sys.stdout.write(\"{:2d} seconds remaining.\".format(remaining))\n",
        "        sys.stdout.flush()\n",
        "        time.sleep(1)\n",
        "        if interrupted:\n",
        "            print(\"Gotta go\")\n",
        "            break"
      ],
      "metadata": {
        "id": "81ILxUBCCVF-"
      },
      "execution_count": 9,
      "outputs": []
    },
    {
      "cell_type": "code",
      "source": [
        "def batsman_data(r):\n",
        "    bat=[]\n",
        "    for batsmen in r['liveSummary']['batsmen']:\n",
        "        bat.append(batsmen['player']['battingName']+'     '+str(batsmen['runs'])+'('+str(batsmen['balls'])+')')\n",
        "    return bat"
      ],
      "metadata": {
        "id": "k8wIHSx-CVIT"
      },
      "execution_count": 10,
      "outputs": []
    },
    {
      "cell_type": "code",
      "source": [
        "def bowler_data(r):\n",
        "    a=[]\n",
        "    for bowler in r['liveSummary']['bowlers']:\n",
        "        a.append(bowler['player']['battingName']+'          '+str(bowler['overs'])+'-'+str(bowler['maidens'])+'-'+str(bowler['conceded'])+'-'+str(bowler['wickets']))\n",
        "    return a"
      ],
      "metadata": {
        "id": "KiuTBK95CVKr"
      },
      "execution_count": 11,
      "outputs": []
    },
    {
      "cell_type": "code",
      "source": [
        "url=requests.get(\"https://hs-consumer-api.espncricinfo.com/v1/pages/matches/current?latest=true\").json()\n",
        "matches_detail=[[match['scribeId'],match['slug'],match['series']['objectId'],match['series']['slug']] for match in url['matches'] if match['status']=='Live']\n",
        "matches_detail_str=''"
      ],
      "metadata": {
        "id": "55G-oFJgCb8f"
      },
      "execution_count": 12,
      "outputs": []
    },
    {
      "cell_type": "code",
      "source": [
        "for i,match_d in enumerate(matches_detail):\n",
        "    matches_detail_str+=f'live{i+1} --> '+str(match_d[1])+'\\n'\n",
        "#print(matches_detail)"
      ],
      "metadata": {
        "id": "dpyCbh9JCb-o"
      },
      "execution_count": 13,
      "outputs": []
    },
    {
      "cell_type": "code",
      "source": [
        "@dp.message_handler(commands=['start', 'help'])\n",
        "async def send_welcome(message: types.Message):\n",
        "    \"\"\"\n",
        "    This handler will be called when user sends `/start` or `/help` command\n",
        "    \"\"\"\n",
        "    await message.reply(\"Hi,\\n I am cricket score Bot. I will update you on the live score of todays game.\")\n",
        "\n",
        "    if matches_detail:\n",
        "        await message.reply(matches_detail_str)\n",
        "    else:\n",
        "        await message.reply('No Live coverage going on!! \\n-----BYE----')\n",
        "\n",
        "send_welcome(\"hello\")"
      ],
      "metadata": {
        "colab": {
          "base_uri": "https://localhost:8080/"
        },
        "id": "fw11TMgmCcA1",
        "outputId": "0dd0645e-0993-4a5a-c818-3791067f561e"
      },
      "execution_count": 18,
      "outputs": [
        {
          "output_type": "execute_result",
          "data": {
            "text/plain": [
              "<coroutine object send_welcome at 0x7f0e37d2f3b0>"
            ]
          },
          "metadata": {},
          "execution_count": 18
        }
      ]
    },
    {
      "cell_type": "code",
      "source": [
        "@dp.message_handler()\n",
        "async def echo(message: types.Message):\n",
        "    # old style:\n",
        "    # await bot.send_message(message.chat.id, message.text)\n",
        "\n",
        "    #await message.reply(message.text)\n",
        "\n",
        "    #print(message.text.lower())\n",
        "    if len(message.text) in [5,6] and matches_detail_str.find(message.text.lower())!=-1:\n",
        "        msg=message.text.strip('live')\n",
        "        a=int(msg)\n",
        "        #print(a)\n",
        "        #select_match_url=f'https://www.espncricinfo.com/series/{matches_detail[a-1][3]}-{matches_detail[a-1][2]}/{matches_detail[a-1][1]}-{matches_detail[a-1][0]}/live-cricket-score'\n",
        "        #print(select_match_url)\n",
        "        #state=True\n",
        "        cache=[]\n",
        "        while True:\n",
        "            \n",
        "            #bot.reply_to(message, message.text)\n",
        "            #final_score=cricket.final_score_fun(select_match_url)\n",
        "            url=f\"https://hs-consumer-api.espncricinfo.com/v1/pages/match/details?seriesId={matches_detail[a-1][2]}&matchId={matches_detail[a-1][0]}&latest=true\"\n",
        "            print(url)\n",
        "            r=requests.get(url).json()\n",
        "            #if cache[0]!=cache[1]:\n",
        "            if r['recentBallCommentary']:\n",
        "                recent_ball=r['recentBallCommentary']['ballComments'][0]\n",
        "                four='Four Runs ' if recent_ball['isFour'] else ''\n",
        "                six='SIX Runs ' if recent_ball['isSix'] else ''\n",
        "                wicket='OUT ' if recent_ball['isWicket'] else ''\n",
        "                #print(recent_ball)\n",
        "                if recent_ball['oversActual'] not in cache:\n",
        "                    if cache:\n",
        "                        cache.pop(0) \n",
        "                    cache.append(recent_ball['oversActual'])\n",
        "                    if four or six or wicket:\n",
        "                        runs= '' if four or six or wicket else str(recent_ball['totalRuns'])+' Runs'\n",
        "                        recent=str(recent_ball['oversActual'])+' '+recent_ball['title']+', '+four+six+wicket+runs\n",
        "                        #print(recent)\n",
        "                        await bot.send_message(ChatID,recent) # your chat id\n",
        "                    if str(recent_ball['oversActual']).find('.6')!=-1:\n",
        "                        batsman_info=batsman_data(r)\n",
        "                        bowler_info=bowler_data(r)\n",
        "                        recent_comment=r['recentBallCommentary']['ballComments'][0]\n",
        "                        print(recent_comment)\n",
        "                        output=str(recent_comment['over']['team']['abbreviation'])+' - '+str(recent_comment['over']['totalRuns'])+'/'+str(recent_comment['over']['totalWickets']) + ' \\n ' +str(recent_comment['over']['overRuns'])+' runs * '+str(recent_comment['over']['overWickets'])+' wckts'+'\\n'+'batting=> '+' || '.join(batsman_info) +'\\n'+'bowling=> '+' || '.join(bowler_info)\n",
        "                        await bot.send_message(chatID,output)   #your chat id\n",
        "                        #print(output)\n",
        "                        time.sleep(30)\n",
        "                        \n",
        "                    wait_time(40)\n",
        "                else:\n",
        "                    wait_time(30)\n",
        "\n",
        "            else:\n",
        "                await message.reply('No Live commentary available for this match')\n",
        "echo(\"mess\")\n"
      ],
      "metadata": {
        "colab": {
          "base_uri": "https://localhost:8080/"
        },
        "id": "vmUC5nHGCcDB",
        "outputId": "c59352c5-ef94-4e56-95cc-fab5387b0c25"
      },
      "execution_count": 21,
      "outputs": [
        {
          "output_type": "stream",
          "name": "stderr",
          "text": [
            "/usr/local/lib/python3.7/dist-packages/IPython/core/compilerop.py:100: RuntimeWarning: coroutine 'Executor._startup_polling' was never awaited\n",
            "  return compile(source, filename, symbol, self.flags | PyCF_ONLY_AST, 1)\n",
            "RuntimeWarning: Enable tracemalloc to get the object allocation traceback\n",
            "/usr/local/lib/python3.7/dist-packages/IPython/core/compilerop.py:100: RuntimeWarning: coroutine 'Executor._shutdown_polling' was never awaited\n",
            "  return compile(source, filename, symbol, self.flags | PyCF_ONLY_AST, 1)\n",
            "RuntimeWarning: Enable tracemalloc to get the object allocation traceback\n"
          ]
        },
        {
          "output_type": "execute_result",
          "data": {
            "text/plain": [
              "<coroutine object echo at 0x7f0e37d47440>"
            ]
          },
          "metadata": {},
          "execution_count": 21
        }
      ]
    },
    {
      "cell_type": "code",
      "source": [
        "executor.start_polling(dp, skip_updates=True)"
      ],
      "metadata": {
        "id": "XW5GREssCcFM"
      },
      "execution_count": null,
      "outputs": []
    },
    {
      "cell_type": "code",
      "source": [
        ""
      ],
      "metadata": {
        "id": "HC7UP8VuCcHh"
      },
      "execution_count": null,
      "outputs": []
    }
  ]
}
